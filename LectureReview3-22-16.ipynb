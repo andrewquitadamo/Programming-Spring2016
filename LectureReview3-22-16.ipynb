{
 "metadata": {
  "name": "",
  "signature": "sha256:57bf6f5f83b9e2b575dd26e5aa7b07ec72f752334ebc42ecaaaccfdb1866ae28"
 },
 "nbformat": 3,
 "nbformat_minor": 0,
 "worksheets": [
  {
   "cells": [
    {
     "cell_type": "markdown",
     "metadata": {},
     "source": [
      "# Lecture Review 3-22-16"
     ]
    },
    {
     "cell_type": "markdown",
     "metadata": {},
     "source": [
      "## Object Oriented Programming\n",
      "\n",
      "There are several different ways of thinking about programming and how to create and structure programs, which are called programming paradigms. Some common used ones are Procedural, Functional and Object Oriented. \n",
      "\n",
      "We are going to talk about Object Oriented Programming (OOP), which is based on the idea that you can represent things and ideas as objects in code. \n",
      "\n",
      "You've already used the results of OOP when calling methods like `.append()` or `.strip()`"
     ]
    },
    {
     "cell_type": "markdown",
     "metadata": {},
     "source": [
      "### Classes\n",
      "\n",
      "A class is the building block of OOP. You can think of a class as the blueprint for an object. Each time you call the class you get a new object returned."
     ]
    },
    {
     "cell_type": "code",
     "collapsed": false,
     "input": [],
     "language": "python",
     "metadata": {},
     "outputs": []
    }
   ],
   "metadata": {}
  }
 ]
}