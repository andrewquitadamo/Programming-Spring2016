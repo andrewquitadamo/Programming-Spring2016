{
 "metadata": {
  "name": "",
  "signature": "sha256:ea54ae429bf1cd87f6eb0b7586c2e7a5536e1b9f5c23c09228d534510053aa55"
 },
 "nbformat": 3,
 "nbformat_minor": 0,
 "worksheets": [
  {
   "cells": [
    {
     "cell_type": "heading",
     "level": 1,
     "metadata": {},
     "source": [
      "Lecture Review 4-19-16"
     ]
    },
    {
     "cell_type": "heading",
     "level": 2,
     "metadata": {},
     "source": [
      "Class Attributes"
     ]
    },
    {
     "cell_type": "markdown",
     "metadata": {},
     "source": [
      "* Class attributes can be accessed through the class or through an instance of the class\n",
      "* In lecture you saw an example of how to track instances of a class using a class attribute\n",
      "* The list or dictionary that held the instances belonged to the class, and not to the instances\n",
      "* Sometimes class attributes have to be explicitly accessed through the class"
     ]
    },
    {
     "cell_type": "code",
     "collapsed": false,
     "input": [
      "class Wrong(object):\n",
      "    instances = 0\n",
      "    def __init__(self):\n",
      "        self.instances += 1\n",
      "\n",
      "w1 = Wrong()\n",
      "w2 = Wrong()\n",
      "Wrong.instances"
     ],
     "language": "python",
     "metadata": {},
     "outputs": [
      {
       "metadata": {},
       "output_type": "pyout",
       "prompt_number": 6,
       "text": [
        "0"
       ]
      }
     ],
     "prompt_number": 6
    },
    {
     "cell_type": "code",
     "collapsed": false,
     "input": [
      "class Better(object):\n",
      "    instances = 0\n",
      "    def __init__(self):\n",
      "        Better.instances += 1\n",
      "\n",
      "b1 = Better()\n",
      "b2 = Better()\n",
      "Better.instances"
     ],
     "language": "python",
     "metadata": {},
     "outputs": [
      {
       "metadata": {},
       "output_type": "pyout",
       "prompt_number": 9,
       "text": [
        "2"
       ]
      }
     ],
     "prompt_number": 9
    },
    {
     "cell_type": "heading",
     "level": 2,
     "metadata": {},
     "source": [
      "Classmethods"
     ]
    },
    {
     "cell_type": "markdown",
     "metadata": {},
     "source": [
      "*"
     ]
    },
    {
     "cell_type": "code",
     "collapsed": false,
     "input": [
      "class Better(object):\n",
      "    instances = 0\n",
      "    def __init__(self):\n",
      "        Better.instances += 1\n",
      "    @classmethod\n",
      "    def print_instance_count(cls):\n",
      "        print \"There are \" + str(cls.instances) + \" instance(s)\""
     ],
     "language": "python",
     "metadata": {},
     "outputs": [],
     "prompt_number": 2
    },
    {
     "cell_type": "code",
     "collapsed": false,
     "input": [
      "b1 = Better()\n",
      "b2 = Better()"
     ],
     "language": "python",
     "metadata": {},
     "outputs": [],
     "prompt_number": 3
    },
    {
     "cell_type": "code",
     "collapsed": false,
     "input": [
      "b2.print_instance_count()"
     ],
     "language": "python",
     "metadata": {},
     "outputs": [
      {
       "output_type": "stream",
       "stream": "stdout",
       "text": [
        "There are 2 instance(s)\n"
       ]
      }
     ],
     "prompt_number": 7
    },
    {
     "cell_type": "markdown",
     "metadata": {},
     "source": [
      "##Problems in \"Bioinformatics Programming Using Python\"\n",
      "\n",
      "In \"Bioinformatics Programming Using Python\" `classmethods` are written like:\n",
      "```Python\n",
      "@classmethod\n",
      "def InstanceCount(self):\n",
      "    return len(self.Instances)\n",
      "```\n",
      "\n",
      "* By convention classmethods take `cls` as their first parameter, not `self`\n",
      "* The naming conventions for Python also suggest that variables have lowercase names"
     ]
    },
    {
     "cell_type": "code",
     "collapsed": false,
     "input": [],
     "language": "python",
     "metadata": {},
     "outputs": []
    }
   ],
   "metadata": {}
  }
 ]
}