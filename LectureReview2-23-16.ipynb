{
 "metadata": {
  "name": "",
  "signature": "sha256:5cd31cba7339b0df8e12868b53e256398b9b8ec86d4cc79842111aa1ef7d7550"
 },
 "nbformat": 3,
 "nbformat_minor": 0,
 "worksheets": [
  {
   "cells": [
    {
     "cell_type": "heading",
     "level": 1,
     "metadata": {},
     "source": [
      "Lecture Review 2-23-16"
     ]
    },
    {
     "cell_type": "heading",
     "level": 2,
     "metadata": {},
     "source": [
      "Python Syntax"
     ]
    },
    {
     "cell_type": "markdown",
     "metadata": {},
     "source": [
      "Unlike C, Perl, or Java, Python doesn't use curly brackets to signify code blocks. Python uses white space. It doesn't matter what white space delimiter you use, as long as you keep it consistent. You are not going to have fun if you mix tabs and spaces."
     ]
    },
    {
     "cell_type": "markdown",
     "metadata": {},
     "source": [
      "* Whitespace is used in `if` statments, `for`, and `while` loops, function definitions and other places."
     ]
    },
    {
     "cell_type": "code",
     "collapsed": false,
     "input": [
      "if 10%2==0:\n",
      "    print \"Even\"\n",
      "else:\n",
      "    print \"Odd\""
     ],
     "language": "python",
     "metadata": {},
     "outputs": [
      {
       "output_type": "stream",
       "stream": "stdout",
       "text": [
        "Even\n"
       ]
      }
     ],
     "prompt_number": 1
    },
    {
     "cell_type": "markdown",
     "metadata": {},
     "source": [
      "* If you have nested code blocks, each block needs to be indented to the appropriate level"
     ]
    },
    {
     "cell_type": "markdown",
     "metadata": {},
     "source": [
      "* This won't work"
     ]
    },
    {
     "cell_type": "code",
     "collapsed": false,
     "input": [
      "nums = [1,2,3,4]\n",
      "for nu in nums:\n",
      "if nu%2==0:\n",
      "    print \"Even\""
     ],
     "language": "python",
     "metadata": {},
     "outputs": [
      {
       "ename": "IndentationError",
       "evalue": "expected an indented block (<ipython-input-7-f574e51fd60c>, line 3)",
       "output_type": "pyerr",
       "traceback": [
        "\u001b[1;36m  File \u001b[1;32m\"<ipython-input-7-f574e51fd60c>\"\u001b[1;36m, line \u001b[1;32m3\u001b[0m\n\u001b[1;33m    if num%2==0:\u001b[0m\n\u001b[1;37m     ^\u001b[0m\n\u001b[1;31mIndentationError\u001b[0m\u001b[1;31m:\u001b[0m expected an indented block\n"
       ]
      }
     ],
     "prompt_number": 7
    },
    {
     "cell_type": "markdown",
     "metadata": {},
     "source": [
      "* This won't work either"
     ]
    },
    {
     "cell_type": "code",
     "collapsed": false,
     "input": [
      "nums = [1,2,3,4]\n",
      "for nu in nums:\n",
      "    if nu%2==0:\n",
      "    print \"Even\""
     ],
     "language": "python",
     "metadata": {},
     "outputs": [
      {
       "ename": "IndentationError",
       "evalue": "expected an indented block (<ipython-input-8-5897152d9f6b>, line 4)",
       "output_type": "pyerr",
       "traceback": [
        "\u001b[1;36m  File \u001b[1;32m\"<ipython-input-8-5897152d9f6b>\"\u001b[1;36m, line \u001b[1;32m4\u001b[0m\n\u001b[1;33m    print \"Even\"\u001b[0m\n\u001b[1;37m        ^\u001b[0m\n\u001b[1;31mIndentationError\u001b[0m\u001b[1;31m:\u001b[0m expected an indented block\n"
       ]
      }
     ],
     "prompt_number": 8
    },
    {
     "cell_type": "markdown",
     "metadata": {},
     "source": [
      "* When things are properly indented Python is happy"
     ]
    },
    {
     "cell_type": "code",
     "collapsed": false,
     "input": [
      "nums = [1,2,3,4]\n",
      "for nu in nums:\n",
      "    if nu%2==0:\n",
      "        print \"Even\""
     ],
     "language": "python",
     "metadata": {},
     "outputs": [
      {
       "output_type": "stream",
       "stream": "stdout",
       "text": [
        "Even\n"
       ]
      }
     ],
     "prompt_number": 6
    },
    {
     "cell_type": "heading",
     "level": 2,
     "metadata": {},
     "source": [
      "If Statements"
     ]
    },
    {
     "cell_type": "markdown",
     "metadata": {},
     "source": [
      "* If statements are used to test whether an expression is true or not, and then act on it."
     ]
    },
    {
     "cell_type": "code",
     "collapsed": false,
     "input": [
      "age=25\n",
      "if age >= 18:\n",
      "    print \"You can vote\""
     ],
     "language": "python",
     "metadata": {},
     "outputs": [
      {
       "output_type": "stream",
       "stream": "stdout",
       "text": [
        "You can vote\n"
       ]
      }
     ],
     "prompt_number": 11
    },
    {
     "cell_type": "markdown",
     "metadata": {},
     "source": [
      "* Else statements are used to in combination with if statements. They only execute if the if statement they are paired with is false."
     ]
    },
    {
     "cell_type": "code",
     "collapsed": false,
     "input": [
      "age=17\n",
      "if age >= 18:\n",
      "    print \"You can vote\"\n",
      "else:\n",
      "    print \"No voting for you\""
     ],
     "language": "python",
     "metadata": {},
     "outputs": [
      {
       "output_type": "stream",
       "stream": "stdout",
       "text": [
        "No voting for you\n"
       ]
      }
     ],
     "prompt_number": 12
    },
    {
     "cell_type": "markdown",
     "metadata": {},
     "source": [
      "* Elif statements are are used in combination with if statements. They act as a second if statement that only gets executed if it is true, and the previous if and elif statements are false. Elif stands for else-if."
     ]
    },
    {
     "cell_type": "code",
     "collapsed": false,
     "input": [
      "age=10\n",
      "if age >= 18 and age < 21:\n",
      "    print \"You can vote but not drink\"\n",
      "elif age >= 18 and age >= 21:\n",
      "    print \"You can vote and drink\"\n",
      "else:\n",
      "    print \"No voting or drinking\""
     ],
     "language": "python",
     "metadata": {},
     "outputs": [
      {
       "output_type": "stream",
       "stream": "stdout",
       "text": [
        "No voting or drinking\n"
       ]
      }
     ],
     "prompt_number": 14
    },
    {
     "cell_type": "code",
     "collapsed": false,
     "input": [
      "age=18\n",
      "if age >= 18 and age < 21:\n",
      "    print \"You can vote but not drink\"\n",
      "elif age >= 18 and age >= 21:\n",
      "    print \"You can vote and drink\"\n",
      "else:\n",
      "    print \"No voting or drinking\""
     ],
     "language": "python",
     "metadata": {},
     "outputs": [
      {
       "output_type": "stream",
       "stream": "stdout",
       "text": [
        "You can vote but not drink\n"
       ]
      }
     ],
     "prompt_number": 15
    },
    {
     "cell_type": "code",
     "collapsed": false,
     "input": [
      "age=32\n",
      "if age >= 18 and age < 21:\n",
      "    print \"You can vote but not drink\"\n",
      "elif age >= 18 and age >= 21:\n",
      "    print \"You can vote and drink\"\n",
      "else:\n",
      "    print \"No voting or drinking\""
     ],
     "language": "python",
     "metadata": {},
     "outputs": [
      {
       "output_type": "stream",
       "stream": "stdout",
       "text": [
        "You can vote and drink\n"
       ]
      }
     ],
     "prompt_number": 16
    },
    {
     "cell_type": "heading",
     "level": 2,
     "metadata": {},
     "source": [
      "While Loops"
     ]
    },
    {
     "cell_type": "markdown",
     "metadata": {},
     "source": [
      "While loops are used to execute code until a condition is met. They aren't used as much in Python as their more popular cousins the for loop."
     ]
    },
    {
     "cell_type": "code",
     "collapsed": false,
     "input": [
      "tasks = ['edit paper','do homework','sleep']\n",
      "while len(tasks) > 0:\n",
      "    task_to_do = tasks.pop(0)\n",
      "    print task_to_do"
     ],
     "language": "python",
     "metadata": {},
     "outputs": [
      {
       "output_type": "stream",
       "stream": "stdout",
       "text": [
        "edit paper\n",
        "do homework\n",
        "sleep\n"
       ]
      }
     ],
     "prompt_number": 19
    },
    {
     "cell_type": "markdown",
     "metadata": {},
     "source": [
      "While loops also have an else statement, which gets executed if the loop exits normally"
     ]
    },
    {
     "cell_type": "code",
     "collapsed": false,
     "input": [
      "tasks = ['edit paper','do homework','sleep']\n",
      "while len(tasks) > 0:\n",
      "    task_to_do = tasks.pop(0)\n",
      "    print task_to_do\n",
      "else:\n",
      "    print \"All done\""
     ],
     "language": "python",
     "metadata": {},
     "outputs": [
      {
       "output_type": "stream",
       "stream": "stdout",
       "text": [
        "edit paper\n",
        "do homework\n",
        "sleep\n",
        "All done\n"
       ]
      }
     ],
     "prompt_number": 20
    },
    {
     "cell_type": "code",
     "collapsed": false,
     "input": [],
     "language": "python",
     "metadata": {},
     "outputs": []
    }
   ],
   "metadata": {}
  }
 ]
}